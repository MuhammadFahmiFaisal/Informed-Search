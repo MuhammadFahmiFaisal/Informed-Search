{
  "nbformat": 4,
  "nbformat_minor": 0,
  "metadata": {
    "colab": {
      "provenance": []
    },
    "kernelspec": {
      "name": "python3",
      "display_name": "Python 3"
    },
    "language_info": {
      "name": "python"
    }
  },
  "cells": [
    {
      "cell_type": "code",
      "execution_count": 3,
      "metadata": {
        "colab": {
          "base_uri": "https://localhost:8080/"
        },
        "id": "1Xc7E_b9C_HE",
        "outputId": "153f06fe-a298-406b-e5c4-9b89e73cce36"
      },
      "outputs": [
        {
          "output_type": "stream",
          "name": "stdout",
          "text": [
            "\n",
            "Simpul tujuan ditemukan!\n",
            "Jalur yang ditemukan: S → B → D → G\n",
            "Total biaya jalur: 10\n"
          ]
        }
      ],
      "source": [
        "from queue import PriorityQueue\n",
        "\n",
        "# Fungsi untuk algoritma A* Graph Search\n",
        "def a_star_graph_search(graph, start, goal, heuristic):\n",
        "    frontier = PriorityQueue()  # Antrian prioritas berdasarkan f(n) = g(n) + h(n)\n",
        "    frontier.put((0, start, []))  # (biaya, simpul, jalur)\n",
        "    explored = {}  # Dictionary untuk menyimpan biaya terendah ke setiap simpul\n",
        "\n",
        "    while not frontier.empty():\n",
        "        current_cost, current_node, path = frontier.get()  # Ambil simpul dengan prioritas terendah\n",
        "        path = path + [current_node]  # Tambahkan simpul ke jalur\n",
        "\n",
        "        if current_node == goal:\n",
        "            print(\"\\nSimpul tujuan ditemukan!\")\n",
        "            print(\"Jalur yang ditemukan:\", \" → \".join(path))\n",
        "            print(\"Total biaya jalur:\", current_cost)\n",
        "            return  # Berhenti jika simpul tujuan ditemukan\n",
        "\n",
        "        explored[current_node] = current_cost  # Tandai simpul sebagai dieksplorasi\n",
        "\n",
        "        for neighbor, cost in graph[current_node].items():\n",
        "            new_cost = current_cost + cost  # g(n)\n",
        "            total_cost = new_cost + heuristic[neighbor]  # f(n) = g(n) + h(n)\n",
        "\n",
        "            # Jika simpul belum dieksplorasi atau ditemukan jalur dengan biaya lebih rendah\n",
        "            if neighbor not in explored or new_cost < explored[neighbor]:\n",
        "                explored[neighbor] = new_cost\n",
        "                frontier.put((total_cost, neighbor, path))  # Masukkan simpul ke frontier\n",
        "\n",
        "    print(\"\\nSimpul tujuan tidak ditemukan!\")\n",
        "\n",
        "# Daftar heuristik untuk setiap simpul\n",
        "heuristic = {\n",
        "    'A' : 4,\n",
        "    'B' : 3,\n",
        "    'C' : 3,\n",
        "    'D' : 1,\n",
        "    'G' : 0,\n",
        "    'S' : 6\n",
        "}\n",
        "\n",
        "graph = {\n",
        "    'S': {'A' : 3, 'B' : 2},\n",
        "    'A': {'B' : 1, 'D' : 5},\n",
        "    'B': {'C' : 2, 'D' : 3},\n",
        "    'C': {'D' : 3, 'G' : 4},\n",
        "    'D': {'G' : 1}\n",
        "}\n",
        "\n",
        "# Titik awal dan tujuan\n",
        "start_node = 'S'\n",
        "goal_node = 'G'\n",
        "\n",
        "# Panggil fungsi A* Graph Search\n",
        "a_star_graph_search(graph, start_node, goal_node, heuristic)"
      ]
    }
  ]
}