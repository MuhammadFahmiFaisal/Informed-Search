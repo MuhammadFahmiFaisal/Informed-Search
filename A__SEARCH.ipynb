{
  "nbformat": 4,
  "nbformat_minor": 0,
  "metadata": {
    "colab": {
      "provenance": []
    },
    "kernelspec": {
      "name": "python3",
      "display_name": "Python 3"
    },
    "language_info": {
      "name": "python"
    }
  },
  "cells": [
    {
      "cell_type": "code",
      "execution_count": 2,
      "metadata": {
        "colab": {
          "base_uri": "https://localhost:8080/"
        },
        "id": "HUcXd2i--QSN",
        "outputId": "3d316de8-7958-4dd4-fe0f-41e00e2814ce"
      },
      "outputs": [
        {
          "output_type": "stream",
          "name": "stdout",
          "text": [
            "Simpul tujuan sudah ditemukan!\n",
            "Jalur optimal: ['S', 'B', 'D', 'G']\n"
          ]
        },
        {
          "output_type": "execute_result",
          "data": {
            "text/plain": [
              "True"
            ]
          },
          "metadata": {},
          "execution_count": 2
        }
      ],
      "source": [
        "from queue import PriorityQueue\n",
        "\n",
        "def a_star_search(graph, start, goal, heuristic):\n",
        "  frontier = PriorityQueue()\n",
        "  frontier.put((0, start, [start]))  # (cost, node, path)\n",
        "  explored = set()\n",
        "\n",
        "  while not frontier.empty():\n",
        "    current_cost, current_node, path = frontier.get()\n",
        "\n",
        "    if current_node == goal:\n",
        "      print(\"Simpul tujuan sudah ditemukan!\")\n",
        "      print(\"Jalur optimal:\", path)\n",
        "      return True\n",
        "\n",
        "    explored.add(current_node)\n",
        "\n",
        "    for neighbor in graph[current_node]:\n",
        "        if neighbor not in explored:\n",
        "          cost_to_neighbor = graph[current_node][neighbor]\n",
        "          total_cost = current_cost + cost_to_neighbor + heuristic[neighbor]  # A* cost function\n",
        "          frontier.put((total_cost, neighbor, path + [neighbor]))\n",
        "\n",
        "\n",
        "  print(\"Simpul tidak ditemukan!\")\n",
        "  return False\n",
        "\n",
        "\n",
        "\n",
        "heuristic = {\n",
        "    'A' : 4,\n",
        "    'B' : 3,\n",
        "    'C' : 3,\n",
        "    'D' : 1,\n",
        "    'G' : 0,\n",
        "    'S' : 6\n",
        "}\n",
        "\n",
        "graph = {\n",
        "    'S': {'A' : 3, 'B' : 2},\n",
        "    'A': {'B' : 1, 'D' : 5},\n",
        "    'B': {'C' : 2, 'D' : 3},\n",
        "    'C': {'D' : 3, 'G' : 4},\n",
        "    'D': {'G' : 1}\n",
        "}\n",
        "\n",
        "start_node = 'S'\n",
        "goal_node = 'G'\n",
        "\n",
        "a_star_search(graph, start_node, goal_node, heuristic)"
      ]
    }
  ]
}