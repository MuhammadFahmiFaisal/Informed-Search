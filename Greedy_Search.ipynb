{
  "nbformat": 4,
  "nbformat_minor": 0,
  "metadata": {
    "colab": {
      "provenance": []
    },
    "kernelspec": {
      "name": "python3",
      "display_name": "Python 3"
    },
    "language_info": {
      "name": "python"
    }
  },
  "cells": [
    {
      "cell_type": "code",
      "execution_count": 3,
      "metadata": {
        "colab": {
          "base_uri": "https://localhost:8080/"
        },
        "id": "WLNa2bDU75Rb",
        "outputId": "55a3e5aa-7031-4975-f5f4-ea60cf0e2f6e"
      },
      "outputs": [
        {
          "output_type": "stream",
          "name": "stdout",
          "text": [
            "Mengunjungi simpul: S\n",
            "Mengunjungi simpul: B\n",
            "Mengunjungi simpul: D\n",
            "Mengunjungi simpul: G\n",
            "\n",
            "Simpul tujuan ditemukan!\n",
            "Urutan kunjungan simpul: S → B → D → G\n"
          ]
        },
        {
          "output_type": "execute_result",
          "data": {
            "text/plain": [
              "True"
            ]
          },
          "metadata": {},
          "execution_count": 3
        }
      ],
      "source": [
        "from queue import PriorityQueue\n",
        "\n",
        "# Fungsi untuk algoritma Greedy Best-First Search\n",
        "def greedy_best_first_search(graph, start, goal):\n",
        "    frontier = PriorityQueue()  # Antrian prioritas berdasarkan heuristik\n",
        "    frontier.put((heuristic[start], start))  # Menambahkan simpul awal dengan nilai heuristik\n",
        "    explored = set()  # Set untuk menyimpan simpul yang sudah dieksplorasi\n",
        "    visited_order = []  # List untuk mencatat urutan kunjungan simpul\n",
        "\n",
        "    while not frontier.empty():\n",
        "        _, current_node = frontier.get()  # Ambil simpul dengan heuristik terendah\n",
        "        visited_order.append(current_node)\n",
        "        print(\"Mengunjungi simpul:\", current_node)\n",
        "\n",
        "        if current_node == goal:\n",
        "            print(\"\\nSimpul tujuan ditemukan!\")\n",
        "            print(\"Urutan kunjungan simpul:\", \" → \".join(visited_order))\n",
        "            return True  # Berhenti jika simpul tujuan ditemukan\n",
        "\n",
        "        explored.add(current_node)  # Tandai sebagai sudah dieksplorasi\n",
        "\n",
        "        for neighbor in graph[current_node]:\n",
        "            if neighbor not in explored:\n",
        "                priority = heuristic[neighbor]  # Nilai heuristik sebagai prioritas\n",
        "                frontier.put((priority, neighbor))  # Tambahkan ke antrian\n",
        "\n",
        "    print(\"\\nSimpul tujuan tidak ditemukan!\")\n",
        "    print(\"Urutan kunjungan simpul:\", \" → \".join(visited_order))\n",
        "    return False  # Jika simpul tujuan tidak ditemukan\n",
        "\n",
        "# Daftar heuristik untuk setiap simpul\n",
        "heuristic = {\n",
        "    'A': 4,\n",
        "    'B': 3,\n",
        "    'C': 3,\n",
        "    'D': 1,\n",
        "    'G': 0,\n",
        "    'S': 6\n",
        "}\n",
        "\n",
        "# Graf berbentuk adjacency list\n",
        "graph = {\n",
        "    'S': {'A', 'B'},\n",
        "    'A': {'B', 'D'},\n",
        "    'B': {'C', 'D'},\n",
        "    'C': {'D', 'G'},\n",
        "    'D': {'G'},\n",
        "}\n",
        "\n",
        "# Titik awal dan tujuan\n",
        "start_node = 'S'\n",
        "goal_node = 'G'\n",
        "\n",
        "# Panggil fungsi Greedy Best-First Search\n",
        "greedy_best_first_search(graph, start_node, goal_node)"
      ]
    }
  ]
}